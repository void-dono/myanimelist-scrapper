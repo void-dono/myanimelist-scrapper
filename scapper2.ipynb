{
 "cells": [
  {
   "cell_type": "code",
   "execution_count": 154,
   "metadata": {},
   "outputs": [
    {
     "name": "stdout",
     "output_type": "stream",
     "text": [
      "Requirement already satisfied: selenium in s:\\anaconda\\lib\\site-packages (3.141.0)\n",
      "Requirement already satisfied: urllib3 in s:\\anaconda\\lib\\site-packages (from selenium) (1.25.11)\n",
      "Collecting ipython\n",
      "  Downloading ipython-7.25.0-py3-none-any.whl (786 kB)\n",
      "Requirement already satisfied, skipping upgrade: pygments in s:\\anaconda\\lib\\site-packages (from ipython) (2.7.2)\n",
      "Requirement already satisfied, skipping upgrade: backcall in s:\\anaconda\\lib\\site-packages (from ipython) (0.2.0)\n",
      "Requirement already satisfied, skipping upgrade: pickleshare in s:\\anaconda\\lib\\site-packages (from ipython) (0.7.5)\n",
      "Requirement already satisfied, skipping upgrade: jedi>=0.16 in s:\\anaconda\\lib\\site-packages (from ipython) (0.17.1)\n",
      "Requirement already satisfied, skipping upgrade: decorator in s:\\anaconda\\lib\\site-packages (from ipython) (4.4.2)\n",
      "Requirement already satisfied, skipping upgrade: traitlets>=4.2 in s:\\anaconda\\lib\\site-packages (from ipython) (5.0.5)\n",
      "Requirement already satisfied, skipping upgrade: setuptools>=18.5 in s:\\anaconda\\lib\\site-packages (from ipython) (50.3.1.post20201107)\n",
      "Collecting matplotlib-inline\n",
      "  Downloading matplotlib_inline-0.1.2-py3-none-any.whl (8.2 kB)\n",
      "Requirement already satisfied, skipping upgrade: prompt-toolkit!=3.0.0,!=3.0.1,<3.1.0,>=2.0.0 in s:\\anaconda\\lib\\site-packages (from ipython) (3.0.8)\n",
      "Requirement already satisfied, skipping upgrade: colorama; sys_platform == \"win32\" in s:\\anaconda\\lib\\site-packages (from ipython) (0.4.4)\n",
      "Requirement already satisfied, skipping upgrade: parso<0.8.0,>=0.7.0 in s:\\anaconda\\lib\\site-packages (from jedi>=0.16->ipython) (0.7.0)\n",
      "Requirement already satisfied, skipping upgrade: ipython-genutils in s:\\anaconda\\lib\\site-packages (from traitlets>=4.2->ipython) (0.2.0)\n",
      "Requirement already satisfied, skipping upgrade: wcwidth in s:\\anaconda\\lib\\site-packages (from prompt-toolkit!=3.0.0,!=3.0.1,<3.1.0,>=2.0.0->ipython) (0.2.5)\n",
      "Installing collected packages: matplotlib-inline, ipython\n",
      "  Attempting uninstall: ipython\n",
      "    Found existing installation: ipython 7.19.0\n",
      "    Uninstalling ipython-7.19.0:\n",
      "      Successfully uninstalled ipython-7.19.0\n",
      "Successfully installed ipython-7.25.0 matplotlib-inline-0.1.2\n"
     ]
    },
    {
     "name": "stderr",
     "output_type": "stream",
     "text": [
      "ERROR: After October 2020 you may experience errors when installing or updating packages. This is because pip will change the way that it resolves dependency conflicts.\n",
      "\n",
      "We recommend you use --use-feature=2020-resolver to test your packages with the new resolver before it becomes the default.\n",
      "\n",
      "spyder 4.1.5 requires pyqt5<5.13; python_version >= \"3\", which is not installed.\n",
      "spyder 4.1.5 requires pyqtwebengine<5.13; python_version >= \"3\", which is not installed.\n"
     ]
    }
   ],
   "source": [
    "import pandas as pd\n",
    "!pip install selenium\n",
    "from selenium import webdriver\n",
    "from selenium.webdriver.common.by import By\n",
    "from selenium.webdriver.support.ui import WebDriverWait\n",
    "from selenium.webdriver.support import expected_conditions as EC\n",
    "!pip install -U ipython\n",
    "from IPython.core.interactiveshell import InteractiveShell\n",
    "InteractiveShell.ast_node_interactivity = 'all'"
   ]
  },
  {
   "cell_type": "code",
   "execution_count": 185,
   "metadata": {
    "scrolled": true
   },
   "outputs": [],
   "source": [
    "driver = webdriver.Chrome(executable_path=r'G:\\Software\\Chromedriver\\chromedriver.exe')\n",
    "wait = WebDriverWait(driver,5)"
   ]
  },
  {
   "cell_type": "code",
   "execution_count": 190,
   "metadata": {},
   "outputs": [],
   "source": [
    "links = []\n",
    "for page in range (0, 1000, 500):\n",
    "    driver.get('https://myanimelist.net/topanime.php')\n",
    "    link = driver.find_elements(By.CSS_SELECTOR, 'div[class=\"di-ib clearfix\"] h3 a')\n",
    "    for item in link:\n",
    "        links.append(item.get_attribute('href'))"
   ]
  },
  {
   "cell_type": "code",
   "execution_count": 191,
   "metadata": {},
   "outputs": [
    {
     "data": {
      "text/plain": [
       "100"
      ]
     },
     "execution_count": 191,
     "metadata": {},
     "output_type": "execute_result"
    }
   ],
   "source": [
    "len(links)"
   ]
  },
  {
   "cell_type": "code",
   "execution_count": 192,
   "metadata": {},
   "outputs": [
    {
     "data": {
      "text/plain": [
       "['https://myanimelist.net/anime/5114/Fullmetal_Alchemist__Brotherhood',\n",
       " 'https://myanimelist.net/anime/38524/Shingeki_no_Kyojin_Season_3_Part_2',\n",
       " 'https://myanimelist.net/anime/9253/Steins_Gate',\n",
       " 'https://myanimelist.net/anime/42938/Fruits_Basket__The_Final',\n",
       " 'https://myanimelist.net/anime/28977/Gintama%C2%B0',\n",
       " 'https://myanimelist.net/anime/11061/Hunter_x_Hunter_2011',\n",
       " 'https://myanimelist.net/anime/820/Ginga_Eiyuu_Densetsu',\n",
       " 'https://myanimelist.net/anime/9969/Gintama',\n",
       " 'https://myanimelist.net/anime/15417/Gintama__Enchousen',\n",
       " 'https://myanimelist.net/anime/35180/3-gatsu_no_Lion_2nd_Season',\n",
       " 'https://myanimelist.net/anime/34096/Gintama',\n",
       " 'https://myanimelist.net/anime/28851/Koe_no_Katachi',\n",
       " 'https://myanimelist.net/anime/40028/Shingeki_no_Kyojin__The_Final_Season',\n",
       " 'https://myanimelist.net/anime/4181/Clannad__After_Story',\n",
       " 'https://myanimelist.net/anime/918/Gintama',\n",
       " 'https://myanimelist.net/anime/15335/Gintama_Movie_2__Kanketsu-hen_-_Yorozuya_yo_Eien_Nare',\n",
       " 'https://myanimelist.net/anime/32281/Kimi_no_Na_wa',\n",
       " 'https://myanimelist.net/anime/35247/Owarimonogatari_2nd_Season',\n",
       " 'https://myanimelist.net/anime/2904/Code_Geass__Hangyaku_no_Lelouch_R2',\n",
       " 'https://myanimelist.net/anime/44074/Shiguang_Dailiren',\n",
       " 'https://myanimelist.net/anime/37491/Gintama__Shirogane_no_Tamashii-hen_-_Kouhan-sen',\n",
       " 'https://myanimelist.net/anime/37987/Violet_Evergarden_Movie',\n",
       " 'https://myanimelist.net/anime/39486/Gintama__The_Final',\n",
       " 'https://myanimelist.net/anime/32935/Haikyuu__Karasuno_Koukou_vs_Shiratorizawa_Gakuen_Koukou',\n",
       " 'https://myanimelist.net/anime/37510/Mob_Psycho_100_II',\n",
       " 'https://myanimelist.net/anime/36838/Gintama__Shirogane_no_Tamashii-hen',\n",
       " 'https://myanimelist.net/anime/31758/Kizumonogatari_III__Reiketsu-hen',\n",
       " 'https://myanimelist.net/anime/199/Sen_to_Chihiro_no_Kamikakushi',\n",
       " 'https://myanimelist.net/anime/19/Monster',\n",
       " 'https://myanimelist.net/anime/46102/Odd_Taxi',\n",
       " 'https://myanimelist.net/anime/17074/Monogatari_Series__Second_Season',\n",
       " 'https://myanimelist.net/anime/33050/Fate_stay_night_Movie__Heavens_Feel_-_III_Spring_Song',\n",
       " 'https://myanimelist.net/anime/1/Cowboy_Bebop',\n",
       " 'https://myanimelist.net/anime/40748/Jujutsu_Kaisen_TV',\n",
       " 'https://myanimelist.net/anime/33095/Shouwa_Genroku_Rakugo_Shinjuu__Sukeroku_Futatabi-hen',\n",
       " 'https://myanimelist.net/anime/24701/Mushishi_Zoku_Shou_2nd_Season',\n",
       " 'https://myanimelist.net/anime/40456/Kimetsu_no_Yaiba_Movie__Mugen_Ressha-hen',\n",
       " 'https://myanimelist.net/anime/263/Hajime_no_Ippo',\n",
       " 'https://myanimelist.net/anime/44/Rurouni_Kenshin__Meiji_Kenkaku_Romantan_-_Tsuioku-hen',\n",
       " 'https://myanimelist.net/anime/37521/Vinland_Saga',\n",
       " 'https://myanimelist.net/anime/21939/Mushishi_Zoku_Shou',\n",
       " 'https://myanimelist.net/anime/1575/Code_Geass__Hangyaku_no_Lelouch',\n",
       " 'https://myanimelist.net/anime/34599/Made_in_Abyss',\n",
       " 'https://myanimelist.net/anime/36862/Made_in_Abyss_Movie_3__Fukaki_Tamashii_no_Reimei',\n",
       " 'https://myanimelist.net/anime/245/Great_Teacher_Onizuka',\n",
       " 'https://myanimelist.net/anime/164/Mononoke_Hime',\n",
       " 'https://myanimelist.net/anime/23273/Shigatsu_wa_Kimi_no_Uso',\n",
       " 'https://myanimelist.net/anime/457/Mushishi',\n",
       " 'https://myanimelist.net/anime/2921/Ashita_no_Joe_2',\n",
       " 'https://myanimelist.net/anime/28891/Haikyuu_Second_Season',\n",
       " 'https://myanimelist.net/anime/5114/Fullmetal_Alchemist__Brotherhood',\n",
       " 'https://myanimelist.net/anime/38524/Shingeki_no_Kyojin_Season_3_Part_2',\n",
       " 'https://myanimelist.net/anime/9253/Steins_Gate',\n",
       " 'https://myanimelist.net/anime/42938/Fruits_Basket__The_Final',\n",
       " 'https://myanimelist.net/anime/28977/Gintama%C2%B0',\n",
       " 'https://myanimelist.net/anime/11061/Hunter_x_Hunter_2011',\n",
       " 'https://myanimelist.net/anime/820/Ginga_Eiyuu_Densetsu',\n",
       " 'https://myanimelist.net/anime/9969/Gintama',\n",
       " 'https://myanimelist.net/anime/15417/Gintama__Enchousen',\n",
       " 'https://myanimelist.net/anime/35180/3-gatsu_no_Lion_2nd_Season',\n",
       " 'https://myanimelist.net/anime/34096/Gintama',\n",
       " 'https://myanimelist.net/anime/28851/Koe_no_Katachi',\n",
       " 'https://myanimelist.net/anime/40028/Shingeki_no_Kyojin__The_Final_Season',\n",
       " 'https://myanimelist.net/anime/4181/Clannad__After_Story',\n",
       " 'https://myanimelist.net/anime/918/Gintama',\n",
       " 'https://myanimelist.net/anime/15335/Gintama_Movie_2__Kanketsu-hen_-_Yorozuya_yo_Eien_Nare',\n",
       " 'https://myanimelist.net/anime/32281/Kimi_no_Na_wa',\n",
       " 'https://myanimelist.net/anime/35247/Owarimonogatari_2nd_Season',\n",
       " 'https://myanimelist.net/anime/2904/Code_Geass__Hangyaku_no_Lelouch_R2',\n",
       " 'https://myanimelist.net/anime/44074/Shiguang_Dailiren',\n",
       " 'https://myanimelist.net/anime/37491/Gintama__Shirogane_no_Tamashii-hen_-_Kouhan-sen',\n",
       " 'https://myanimelist.net/anime/37987/Violet_Evergarden_Movie',\n",
       " 'https://myanimelist.net/anime/39486/Gintama__The_Final',\n",
       " 'https://myanimelist.net/anime/32935/Haikyuu__Karasuno_Koukou_vs_Shiratorizawa_Gakuen_Koukou',\n",
       " 'https://myanimelist.net/anime/37510/Mob_Psycho_100_II',\n",
       " 'https://myanimelist.net/anime/36838/Gintama__Shirogane_no_Tamashii-hen',\n",
       " 'https://myanimelist.net/anime/31758/Kizumonogatari_III__Reiketsu-hen',\n",
       " 'https://myanimelist.net/anime/199/Sen_to_Chihiro_no_Kamikakushi',\n",
       " 'https://myanimelist.net/anime/19/Monster',\n",
       " 'https://myanimelist.net/anime/46102/Odd_Taxi',\n",
       " 'https://myanimelist.net/anime/17074/Monogatari_Series__Second_Season',\n",
       " 'https://myanimelist.net/anime/33050/Fate_stay_night_Movie__Heavens_Feel_-_III_Spring_Song',\n",
       " 'https://myanimelist.net/anime/1/Cowboy_Bebop',\n",
       " 'https://myanimelist.net/anime/40748/Jujutsu_Kaisen_TV',\n",
       " 'https://myanimelist.net/anime/33095/Shouwa_Genroku_Rakugo_Shinjuu__Sukeroku_Futatabi-hen',\n",
       " 'https://myanimelist.net/anime/24701/Mushishi_Zoku_Shou_2nd_Season',\n",
       " 'https://myanimelist.net/anime/40456/Kimetsu_no_Yaiba_Movie__Mugen_Ressha-hen',\n",
       " 'https://myanimelist.net/anime/263/Hajime_no_Ippo',\n",
       " 'https://myanimelist.net/anime/44/Rurouni_Kenshin__Meiji_Kenkaku_Romantan_-_Tsuioku-hen',\n",
       " 'https://myanimelist.net/anime/37521/Vinland_Saga',\n",
       " 'https://myanimelist.net/anime/21939/Mushishi_Zoku_Shou',\n",
       " 'https://myanimelist.net/anime/1575/Code_Geass__Hangyaku_no_Lelouch',\n",
       " 'https://myanimelist.net/anime/34599/Made_in_Abyss',\n",
       " 'https://myanimelist.net/anime/36862/Made_in_Abyss_Movie_3__Fukaki_Tamashii_no_Reimei',\n",
       " 'https://myanimelist.net/anime/245/Great_Teacher_Onizuka',\n",
       " 'https://myanimelist.net/anime/164/Mononoke_Hime',\n",
       " 'https://myanimelist.net/anime/23273/Shigatsu_wa_Kimi_no_Uso',\n",
       " 'https://myanimelist.net/anime/457/Mushishi',\n",
       " 'https://myanimelist.net/anime/2921/Ashita_no_Joe_2',\n",
       " 'https://myanimelist.net/anime/28891/Haikyuu_Second_Season']"
      ]
     },
     "execution_count": 192,
     "metadata": {},
     "output_type": "execute_result"
    }
   ],
   "source": [
    "links"
   ]
  },
  {
   "cell_type": "code",
   "execution_count": 180,
   "metadata": {},
   "outputs": [
    {
     "data": {
      "text/plain": [
       "['https://myanimelist.net/anime/5114/Fullmetal_Alchemist__Brotherhood',\n",
       " 'https://myanimelist.net/anime/38524/Shingeki_no_Kyojin_Season_3_Part_2',\n",
       " 'https://myanimelist.net/anime/9253/Steins_Gate',\n",
       " 'https://myanimelist.net/anime/42938/Fruits_Basket__The_Final',\n",
       " 'https://myanimelist.net/anime/28977/Gintama%C2%B0',\n",
       " 'https://myanimelist.net/anime/11061/Hunter_x_Hunter_2011',\n",
       " 'https://myanimelist.net/anime/820/Ginga_Eiyuu_Densetsu',\n",
       " 'https://myanimelist.net/anime/9969/Gintama',\n",
       " 'https://myanimelist.net/anime/15417/Gintama__Enchousen',\n",
       " 'https://myanimelist.net/anime/35180/3-gatsu_no_Lion_2nd_Season']"
      ]
     },
     "execution_count": 180,
     "metadata": {},
     "output_type": "execute_result"
    }
   ],
   "source": [
    "l_train=links[:10]\n",
    "l_train"
   ]
  },
  {
   "cell_type": "code",
   "execution_count": 181,
   "metadata": {},
   "outputs": [],
   "source": [
    "titles = []\n",
    "ratings = []\n",
    "genres = []\n",
    "ranks = []\n",
    "members = []\n",
    "types = []\n",
    "episodes = []\n",
    "licensers = []\n",
    "studios = []\n",
    "sources = []\n",
    "durations = []\n",
    "for item_link in links:\n",
    "    driver.get(item_link)\n",
    "    title = wait.until(EC.visibility_of_element_located((By.CSS_SELECTOR,'div[class=\"h1-title\"] h1')))\n",
    "    rank = wait.until(EC.visibility_of_element_located((By.CSS_SELECTOR,'span[class=\"numbers ranked\"]')))\n",
    "    genre = wait.until(EC.visibility_of_element_located((By.XPATH,'//*[contains(text(), \"Genre\")]/parent::div')))\n",
    "    member = wait.until(EC.visibility_of_element_located((By.CSS_SELECTOR,'span[class=\"numbers members\"]')))\n",
    "    typeq = wait.until(EC.visibility_of_element_located((By.XPATH,'//*[contains(text(), \"Type:\")]/parent::div')))\n",
    "    episode = wait.until(EC.visibility_of_element_located((By.CSS_SELECTOR,'div[class=\"spaceit\"]')))\n",
    "    rating = wait.until(EC.visibility_of_element_located((By.CSS_SELECTOR,'div[class=\"fl-l score\"]')))\n",
    "    licenser = wait.until(EC.visibility_of_element_located((By.XPATH,'//*[contains(text(), \"Licensors:\")]/parent::div')))\n",
    "    studio = wait.until(EC.visibility_of_element_located((By.XPATH,'//*[contains(text(), \"Studios:\")]/parent::div')))\n",
    "    source = wait.until(EC.visibility_of_element_located((By.XPATH,'//*[contains(text(), \"Source:\")]/parent::div')))\n",
    "    duration = wait.until(EC.visibility_of_element_located((By.XPATH,'//*[contains(text(), \"Duration:\")]/parent::div')))\n",
    "    ratings.append(rating.text)\n",
    "    genres.append(genre.text)\n",
    "    titles.append(title.text)\n",
    "    ranks.append(rank.text)\n",
    "    members.append(member.text)\n",
    "    types.append(typeq.text)\n",
    "    episodes.append(episode.text)\n",
    "    licensers.append(licenser.text)\n",
    "    studios.append(studio.text)\n",
    "    sources.append(source.text)\n",
    "    durations.append(duration.text)"
   ]
  },
  {
   "cell_type": "code",
   "execution_count": 182,
   "metadata": {},
   "outputs": [],
   "source": [
    "anime_data = {'Title': titles, 'Rating': ratings,'Genre':genres,'Rank': ranks, 'Members': members, 'Type': types, '# of Episodes': episodes, 'Licensor':licensers, 'Studio':studios , 'Source': sources, 'Duration':durations }\n",
    "df= pd.DataFrame(data=anime_data)"
   ]
  },
  {
   "cell_type": "code",
   "execution_count": 163,
   "metadata": {},
   "outputs": [
    {
     "data": {
      "text/plain": [
       "['9.17', '9.11', '9.10']"
      ]
     },
     "execution_count": 163,
     "metadata": {},
     "output_type": "execute_result"
    },
    {
     "data": {
      "text/plain": [
       "['Genres: Action, Military, Adventure, Comedy, Drama, Magic, Fantasy, Shounen',\n",
       " 'Genres: Action, Drama, Fantasy, Military, Mystery, Shounen, Super Power',\n",
       " 'Genres: Sci-Fi, Psychological, Drama, Thriller']"
      ]
     },
     "execution_count": 163,
     "metadata": {},
     "output_type": "execute_result"
    },
    {
     "data": {
      "text/plain": [
       "['Fullmetal Alchemist: Brotherhood',\n",
       " 'Shingeki no Kyojin Season 3 Part 2',\n",
       " 'Steins;Gate']"
      ]
     },
     "execution_count": 163,
     "metadata": {},
     "output_type": "execute_result"
    },
    {
     "data": {
      "text/plain": [
       "['Ranked #1', 'Ranked #2', 'Ranked #3']"
      ]
     },
     "execution_count": 163,
     "metadata": {},
     "output_type": "execute_result"
    },
    {
     "data": {
      "text/plain": [
       "['Members 2,533,529', 'Members 1,438,662', 'Members 1,987,486']"
      ]
     },
     "execution_count": 163,
     "metadata": {},
     "output_type": "execute_result"
    },
    {
     "data": {
      "text/plain": [
       "['Type: TV', 'Type: TV', 'Type: TV']"
      ]
     },
     "execution_count": 163,
     "metadata": {},
     "output_type": "execute_result"
    },
    {
     "data": {
      "text/plain": [
       "['Episodes: 64', 'Episodes: 10', 'Episodes: 24']"
      ]
     },
     "execution_count": 163,
     "metadata": {},
     "output_type": "execute_result"
    },
    {
     "data": {
      "text/plain": [
       "['Licensors: Funimation, Aniplex of America',\n",
       " 'Licensors: Funimation',\n",
       " 'Licensors: Funimation']"
      ]
     },
     "execution_count": 163,
     "metadata": {},
     "output_type": "execute_result"
    },
    {
     "data": {
      "text/plain": [
       "['Studios: Bones', 'Studios: Wit Studio', 'Studios: White Fox']"
      ]
     },
     "execution_count": 163,
     "metadata": {},
     "output_type": "execute_result"
    },
    {
     "data": {
      "text/plain": [
       "['Source: Manga', 'Source: Manga', 'Source: Visual novel']"
      ]
     },
     "execution_count": 163,
     "metadata": {},
     "output_type": "execute_result"
    }
   ],
   "source": [
    "ratings\n",
    "genres\n",
    "titles\n",
    "ranks\n",
    "members\n",
    "types\n",
    "episodes\n",
    "licensers\n",
    "studios\n",
    "sources"
   ]
  },
  {
   "cell_type": "code",
   "execution_count": 183,
   "metadata": {},
   "outputs": [
    {
     "data": {
      "text/html": [
       "<div>\n",
       "<style scoped>\n",
       "    .dataframe tbody tr th:only-of-type {\n",
       "        vertical-align: middle;\n",
       "    }\n",
       "\n",
       "    .dataframe tbody tr th {\n",
       "        vertical-align: top;\n",
       "    }\n",
       "\n",
       "    .dataframe thead th {\n",
       "        text-align: right;\n",
       "    }\n",
       "</style>\n",
       "<table border=\"1\" class=\"dataframe\">\n",
       "  <thead>\n",
       "    <tr style=\"text-align: right;\">\n",
       "      <th></th>\n",
       "      <th>Title</th>\n",
       "      <th>Rating</th>\n",
       "      <th>Genre</th>\n",
       "      <th>Rank</th>\n",
       "      <th>Members</th>\n",
       "      <th>Type</th>\n",
       "      <th># of Episodes</th>\n",
       "      <th>Licensor</th>\n",
       "      <th>Studio</th>\n",
       "      <th>Source</th>\n",
       "      <th>Duration</th>\n",
       "    </tr>\n",
       "  </thead>\n",
       "  <tbody>\n",
       "    <tr>\n",
       "      <th>0</th>\n",
       "      <td>Fullmetal Alchemist: Brotherhood</td>\n",
       "      <td>9.17</td>\n",
       "      <td>Genres: Action, Military, Adventure, Comedy, D...</td>\n",
       "      <td>Ranked #1</td>\n",
       "      <td>Members 2,533,529</td>\n",
       "      <td>Type: TV</td>\n",
       "      <td>Episodes: 64</td>\n",
       "      <td>Licensors: Funimation, Aniplex of America</td>\n",
       "      <td>Studios: Bones</td>\n",
       "      <td>Source: Manga</td>\n",
       "      <td>Duration: 24 min. per ep.</td>\n",
       "    </tr>\n",
       "    <tr>\n",
       "      <th>1</th>\n",
       "      <td>Shingeki no Kyojin Season 3 Part 2</td>\n",
       "      <td>9.11</td>\n",
       "      <td>Genres: Action, Drama, Fantasy, Military, Myst...</td>\n",
       "      <td>Ranked #2</td>\n",
       "      <td>Members 1,438,891</td>\n",
       "      <td>Type: TV</td>\n",
       "      <td>Episodes: 10</td>\n",
       "      <td>Licensors: Funimation</td>\n",
       "      <td>Studios: Wit Studio</td>\n",
       "      <td>Source: Manga</td>\n",
       "      <td>Duration: 23 min. per ep.</td>\n",
       "    </tr>\n",
       "    <tr>\n",
       "      <th>2</th>\n",
       "      <td>Steins;Gate</td>\n",
       "      <td>9.10</td>\n",
       "      <td>Genres: Sci-Fi, Psychological, Drama, Thriller</td>\n",
       "      <td>Ranked #3</td>\n",
       "      <td>Members 1,987,486</td>\n",
       "      <td>Type: TV</td>\n",
       "      <td>Episodes: 24</td>\n",
       "      <td>Licensors: Funimation</td>\n",
       "      <td>Studios: White Fox</td>\n",
       "      <td>Source: Visual novel</td>\n",
       "      <td>Duration: 24 min. per ep.</td>\n",
       "    </tr>\n",
       "    <tr>\n",
       "      <th>3</th>\n",
       "      <td>Fruits Basket: The Final</td>\n",
       "      <td>9.10</td>\n",
       "      <td>Genres: Slice of Life, Comedy, Supernatural, D...</td>\n",
       "      <td>Ranked #4</td>\n",
       "      <td>Members 218,585</td>\n",
       "      <td>Type: TV</td>\n",
       "      <td>Episodes: 13</td>\n",
       "      <td>Licensors: Funimation</td>\n",
       "      <td>Studios: TMS Entertainment</td>\n",
       "      <td>Source: Manga</td>\n",
       "      <td>Duration: 23 min. per ep.</td>\n",
       "    </tr>\n",
       "    <tr>\n",
       "      <th>4</th>\n",
       "      <td>Gintama°</td>\n",
       "      <td>9.09</td>\n",
       "      <td>Genres: Action, Comedy, Historical, Parody, Sa...</td>\n",
       "      <td>Ranked #5</td>\n",
       "      <td>Members 455,561</td>\n",
       "      <td>Type: TV</td>\n",
       "      <td>Episodes: 51</td>\n",
       "      <td>Licensors: Funimation, Crunchyroll</td>\n",
       "      <td>Studios: Bandai Namco Pictures</td>\n",
       "      <td>Source: Manga</td>\n",
       "      <td>Duration: 24 min. per ep.</td>\n",
       "    </tr>\n",
       "    <tr>\n",
       "      <th>5</th>\n",
       "      <td>Hunter x Hunter (2011)</td>\n",
       "      <td>9.07</td>\n",
       "      <td>Genres: Action, Adventure, Fantasy, Shounen, S...</td>\n",
       "      <td>Ranked #6</td>\n",
       "      <td>Members 1,998,090</td>\n",
       "      <td>Type: TV</td>\n",
       "      <td>Episodes: 148</td>\n",
       "      <td>Licensors: VIZ Media</td>\n",
       "      <td>Studios: Madhouse</td>\n",
       "      <td>Source: Manga</td>\n",
       "      <td>Duration: 23 min. per ep.</td>\n",
       "    </tr>\n",
       "    <tr>\n",
       "      <th>6</th>\n",
       "      <td>Ginga Eiyuu Densetsu</td>\n",
       "      <td>9.06</td>\n",
       "      <td>Genres: Military, Sci-Fi, Space, Drama</td>\n",
       "      <td>Ranked #7</td>\n",
       "      <td>Members 252,183</td>\n",
       "      <td>Type: OVA</td>\n",
       "      <td>Episodes: 110</td>\n",
       "      <td>Licensors: Sentai Filmworks</td>\n",
       "      <td>Studios: K-Factory, Kitty Film Mitaka Studio</td>\n",
       "      <td>Source: Novel</td>\n",
       "      <td>Duration: 26 min. per ep.</td>\n",
       "    </tr>\n",
       "    <tr>\n",
       "      <th>7</th>\n",
       "      <td>Gintama'</td>\n",
       "      <td>9.06</td>\n",
       "      <td>Genres: Action, Sci-Fi, Comedy, Historical, Pa...</td>\n",
       "      <td>Ranked #8</td>\n",
       "      <td>Members 405,917</td>\n",
       "      <td>Type: TV</td>\n",
       "      <td>Episodes: 51</td>\n",
       "      <td>Licensors: None found, add some</td>\n",
       "      <td>Studios: Sunrise</td>\n",
       "      <td>Source: Manga</td>\n",
       "      <td>Duration: 24 min. per ep.</td>\n",
       "    </tr>\n",
       "    <tr>\n",
       "      <th>8</th>\n",
       "      <td>Gintama': Enchousen</td>\n",
       "      <td>9.04</td>\n",
       "      <td>Genres: Action, Comedy, Historical, Parody, Sa...</td>\n",
       "      <td>Ranked #9</td>\n",
       "      <td>Members 246,389</td>\n",
       "      <td>Type: TV</td>\n",
       "      <td>Episodes: 13</td>\n",
       "      <td>Licensors: None found, add some</td>\n",
       "      <td>Studios: Sunrise</td>\n",
       "      <td>Source: Manga</td>\n",
       "      <td>Duration: 24 min. per ep.</td>\n",
       "    </tr>\n",
       "    <tr>\n",
       "      <th>9</th>\n",
       "      <td>3-gatsu no Lion 2nd Season</td>\n",
       "      <td>8.99</td>\n",
       "      <td>Genres: Drama, Game, Seinen, Slice of Life</td>\n",
       "      <td>Ranked #10</td>\n",
       "      <td>Members 305,681</td>\n",
       "      <td>Type: TV</td>\n",
       "      <td>Episodes: 22</td>\n",
       "      <td>Licensors: Aniplex of America</td>\n",
       "      <td>Studios: Shaft</td>\n",
       "      <td>Source: Manga</td>\n",
       "      <td>Duration: 25 min. per ep.</td>\n",
       "    </tr>\n",
       "  </tbody>\n",
       "</table>\n",
       "</div>"
      ],
      "text/plain": [
       "                                Title Rating  \\\n",
       "0    Fullmetal Alchemist: Brotherhood   9.17   \n",
       "1  Shingeki no Kyojin Season 3 Part 2   9.11   \n",
       "2                         Steins;Gate   9.10   \n",
       "3            Fruits Basket: The Final   9.10   \n",
       "4                            Gintama°   9.09   \n",
       "5              Hunter x Hunter (2011)   9.07   \n",
       "6                Ginga Eiyuu Densetsu   9.06   \n",
       "7                            Gintama'   9.06   \n",
       "8                 Gintama': Enchousen   9.04   \n",
       "9          3-gatsu no Lion 2nd Season   8.99   \n",
       "\n",
       "                                               Genre        Rank  \\\n",
       "0  Genres: Action, Military, Adventure, Comedy, D...   Ranked #1   \n",
       "1  Genres: Action, Drama, Fantasy, Military, Myst...   Ranked #2   \n",
       "2     Genres: Sci-Fi, Psychological, Drama, Thriller   Ranked #3   \n",
       "3  Genres: Slice of Life, Comedy, Supernatural, D...   Ranked #4   \n",
       "4  Genres: Action, Comedy, Historical, Parody, Sa...   Ranked #5   \n",
       "5  Genres: Action, Adventure, Fantasy, Shounen, S...   Ranked #6   \n",
       "6             Genres: Military, Sci-Fi, Space, Drama   Ranked #7   \n",
       "7  Genres: Action, Sci-Fi, Comedy, Historical, Pa...   Ranked #8   \n",
       "8  Genres: Action, Comedy, Historical, Parody, Sa...   Ranked #9   \n",
       "9         Genres: Drama, Game, Seinen, Slice of Life  Ranked #10   \n",
       "\n",
       "             Members       Type  # of Episodes  \\\n",
       "0  Members 2,533,529   Type: TV   Episodes: 64   \n",
       "1  Members 1,438,891   Type: TV   Episodes: 10   \n",
       "2  Members 1,987,486   Type: TV   Episodes: 24   \n",
       "3    Members 218,585   Type: TV   Episodes: 13   \n",
       "4    Members 455,561   Type: TV   Episodes: 51   \n",
       "5  Members 1,998,090   Type: TV  Episodes: 148   \n",
       "6    Members 252,183  Type: OVA  Episodes: 110   \n",
       "7    Members 405,917   Type: TV   Episodes: 51   \n",
       "8    Members 246,389   Type: TV   Episodes: 13   \n",
       "9    Members 305,681   Type: TV   Episodes: 22   \n",
       "\n",
       "                                    Licensor  \\\n",
       "0  Licensors: Funimation, Aniplex of America   \n",
       "1                      Licensors: Funimation   \n",
       "2                      Licensors: Funimation   \n",
       "3                      Licensors: Funimation   \n",
       "4         Licensors: Funimation, Crunchyroll   \n",
       "5                       Licensors: VIZ Media   \n",
       "6                Licensors: Sentai Filmworks   \n",
       "7            Licensors: None found, add some   \n",
       "8            Licensors: None found, add some   \n",
       "9              Licensors: Aniplex of America   \n",
       "\n",
       "                                         Studio                Source  \\\n",
       "0                                Studios: Bones         Source: Manga   \n",
       "1                           Studios: Wit Studio         Source: Manga   \n",
       "2                            Studios: White Fox  Source: Visual novel   \n",
       "3                    Studios: TMS Entertainment         Source: Manga   \n",
       "4                Studios: Bandai Namco Pictures         Source: Manga   \n",
       "5                             Studios: Madhouse         Source: Manga   \n",
       "6  Studios: K-Factory, Kitty Film Mitaka Studio         Source: Novel   \n",
       "7                              Studios: Sunrise         Source: Manga   \n",
       "8                              Studios: Sunrise         Source: Manga   \n",
       "9                                Studios: Shaft         Source: Manga   \n",
       "\n",
       "                    Duration  \n",
       "0  Duration: 24 min. per ep.  \n",
       "1  Duration: 23 min. per ep.  \n",
       "2  Duration: 24 min. per ep.  \n",
       "3  Duration: 23 min. per ep.  \n",
       "4  Duration: 24 min. per ep.  \n",
       "5  Duration: 23 min. per ep.  \n",
       "6  Duration: 26 min. per ep.  \n",
       "7  Duration: 24 min. per ep.  \n",
       "8  Duration: 24 min. per ep.  \n",
       "9  Duration: 25 min. per ep.  "
      ]
     },
     "execution_count": 183,
     "metadata": {},
     "output_type": "execute_result"
    }
   ],
   "source": [
    "df"
   ]
  },
  {
   "cell_type": "code",
   "execution_count": null,
   "metadata": {},
   "outputs": [],
   "source": [
    ",'Rank': ranks, 'Members': members, 'Type': types, '# of Episodes': episodes, 'Licensor':licensers, 'Studio':studios , 'Source': sources,'Released':premiereds "
   ]
  }
 ],
 "metadata": {
  "kernelspec": {
   "display_name": "Python 3",
   "language": "python",
   "name": "python3"
  },
  "language_info": {
   "codemirror_mode": {
    "name": "ipython",
    "version": 3
   },
   "file_extension": ".py",
   "mimetype": "text/x-python",
   "name": "python",
   "nbconvert_exporter": "python",
   "pygments_lexer": "ipython3",
   "version": "3.8.5"
  }
 },
 "nbformat": 4,
 "nbformat_minor": 4
}
