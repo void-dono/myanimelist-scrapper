{
 "cells": [
  {
   "cell_type": "code",
   "execution_count": 62,
   "metadata": {},
   "outputs": [
    {
     "name": "stdout",
     "output_type": "stream",
     "text": [
      "Requirement already satisfied: selenium in s:\\anaconda\\lib\\site-packages (3.141.0)\n",
      "Requirement already satisfied: urllib3 in s:\\anaconda\\lib\\site-packages (from selenium) (1.25.11)\n",
      "Requirement already up-to-date: ipython in s:\\anaconda\\lib\\site-packages (7.25.0)\n",
      "Requirement already satisfied, skipping upgrade: backcall in s:\\anaconda\\lib\\site-packages (from ipython) (0.2.0)\n",
      "Requirement already satisfied, skipping upgrade: matplotlib-inline in s:\\anaconda\\lib\\site-packages (from ipython) (0.1.2)\n",
      "Requirement already satisfied, skipping upgrade: colorama; sys_platform == \"win32\" in s:\\anaconda\\lib\\site-packages (from ipython) (0.4.4)\n",
      "Requirement already satisfied, skipping upgrade: pygments in s:\\anaconda\\lib\\site-packages (from ipython) (2.7.2)\n",
      "Requirement already satisfied, skipping upgrade: pickleshare in s:\\anaconda\\lib\\site-packages (from ipython) (0.7.5)\n",
      "Requirement already satisfied, skipping upgrade: prompt-toolkit!=3.0.0,!=3.0.1,<3.1.0,>=2.0.0 in s:\\anaconda\\lib\\site-packages (from ipython) (3.0.8)\n",
      "Requirement already satisfied, skipping upgrade: setuptools>=18.5 in s:\\anaconda\\lib\\site-packages (from ipython) (50.3.1.post20201107)\n",
      "Requirement already satisfied, skipping upgrade: decorator in s:\\anaconda\\lib\\site-packages (from ipython) (4.4.2)\n",
      "Requirement already satisfied, skipping upgrade: traitlets>=4.2 in s:\\anaconda\\lib\\site-packages (from ipython) (5.0.5)\n",
      "Requirement already satisfied, skipping upgrade: jedi>=0.16 in s:\\anaconda\\lib\\site-packages (from ipython) (0.17.1)\n",
      "Requirement already satisfied, skipping upgrade: wcwidth in s:\\anaconda\\lib\\site-packages (from prompt-toolkit!=3.0.0,!=3.0.1,<3.1.0,>=2.0.0->ipython) (0.2.5)\n",
      "Requirement already satisfied, skipping upgrade: ipython-genutils in s:\\anaconda\\lib\\site-packages (from traitlets>=4.2->ipython) (0.2.0)\n",
      "Requirement already satisfied, skipping upgrade: parso<0.8.0,>=0.7.0 in s:\\anaconda\\lib\\site-packages (from jedi>=0.16->ipython) (0.7.0)\n"
     ]
    }
   ],
   "source": [
    "import pandas as pd\n",
    "!pip install selenium\n",
    "from selenium import webdriver\n",
    "from selenium.webdriver.common.by import By\n",
    "from selenium.webdriver.support.ui import WebDriverWait\n",
    "from selenium.webdriver.support import expected_conditions as EC\n",
    "!pip install -U ipython\n",
    "from IPython.core.interactiveshell import InteractiveShell\n",
    "InteractiveShell.ast_node_interactivity = 'all'"
   ]
  },
  {
   "cell_type": "code",
   "execution_count": 63,
   "metadata": {
    "scrolled": true
   },
   "outputs": [],
   "source": [
    "driver = webdriver.Chrome(executable_path=r'G:\\Software\\Chromedriver\\chromedriver.exe')\n",
    "wait = WebDriverWait(driver,5)"
   ]
  },
  {
   "cell_type": "code",
   "execution_count": 64,
   "metadata": {},
   "outputs": [],
   "source": [
    "links = []\n",
    "driver.get('https://myanimelist.net/topanime.php')\n",
    "for k in range(5):\n",
    "    for page in range (0, 100, 50):\n",
    "        link = driver.find_elements(By.CSS_SELECTOR, 'div[class=\"di-ib clearfix\"] h3 a')\n",
    "        for item in link:\n",
    "            links.append(item.get_attribute('href'))\n",
    "    \n",
    "    next=driver.find_element(By.CSS_SELECTOR,'a[class=\"link-blue-box next\"]')\n",
    "    next.click()\n",
    "    "
   ]
  },
  {
   "cell_type": "code",
   "execution_count": 65,
   "metadata": {},
   "outputs": [],
   "source": [
    "titles = []\n",
    "ratings = []\n",
    "genres = []\n",
    "ranks = []\n",
    "members = []\n",
    "types = []\n",
    "episodes = []\n",
    "licensers = []\n",
    "studios = []\n",
    "sources = []\n",
    "durations = []\n",
    "premiereds = []\n",
    "favorites = []\n",
    "for item_link in links:\n",
    "    driver.get(item_link)\n",
    "    title = wait.until(EC.visibility_of_element_located((By.CSS_SELECTOR,'div[class=\"h1-title\"] h1')))\n",
    "    rank = wait.until(EC.visibility_of_element_located((By.CSS_SELECTOR,'span[class=\"numbers ranked\"]')))\n",
    "    genre = wait.until(EC.visibility_of_element_located((By.XPATH,'//*[contains(text(), \"Genre\")]/parent::div')))\n",
    "    member = wait.until(EC.visibility_of_element_located((By.CSS_SELECTOR,'span[class=\"numbers members\"]')))\n",
    "    typeq = wait.until(EC.visibility_of_element_located((By.XPATH,'//*[contains(text(), \"Type:\")]/parent::div')))\n",
    "    episode = wait.until(EC.visibility_of_element_located((By.CSS_SELECTOR,'div[class=\"spaceit\"]')))\n",
    "    rating = wait.until(EC.visibility_of_element_located((By.CSS_SELECTOR,'div[class=\"fl-l score\"]')))\n",
    "    licenser = wait.until(EC.visibility_of_element_located((By.XPATH,'//*[contains(text(), \"Licensors:\")]/parent::div')))\n",
    "    studio = wait.until(EC.visibility_of_element_located((By.XPATH,'//*[contains(text(), \"Studios:\")]/parent::div')))\n",
    "    source = wait.until(EC.visibility_of_element_located((By.XPATH,'//*[contains(text(), \"Source:\")]/parent::div')))\n",
    "    duration = wait.until(EC.visibility_of_element_located((By.XPATH,'//*[contains(text(), \"Duration:\")]/parent::div')))\n",
    "    favorite = wait.until(EC.visibility_of_element_located((By.XPATH,'(//*[contains(text(), \"Favorites:\")] //parent::div)[2]')))\n",
    "    try:\n",
    "        premiered = wait.until(EC.visibility_of_element_located((By.XPATH,'//*[contains(text(), \"Premiered:\")]/parent::div')))\n",
    "        premiereds.append(premiered.text)\n",
    "    except:\n",
    "        premiereds.append(\"Null\")\n",
    "        pass\n",
    "    ratings.append(rating.text)\n",
    "    favorites.append(favorite.text)\n",
    "    genres.append(genre.text)\n",
    "    titles.append(title.text)\n",
    "    ranks.append(rank.text)\n",
    "    members.append(member.text)\n",
    "    types.append(typeq.text)\n",
    "    episodes.append(episode.text)\n",
    "    licensers.append(licenser.text)\n",
    "    studios.append(studio.text)\n",
    "    sources.append(source.text)\n",
    "    durations.append(duration.text)"
   ]
  },
  {
   "cell_type": "code",
   "execution_count": 66,
   "metadata": {},
   "outputs": [],
   "source": [
    "anime_data = {'Rank': ranks,'Title': titles, 'Rating': ratings,'Genre':genres, 'Members': members, 'Type': types, '# of Episodes': episodes, 'Licensor':licensers, 'Studio':studios , 'Source': sources, 'Duration':durations, 'Premiered' : premiereds,'Favorites' : favorites }\n",
    "df= pd.DataFrame(data=anime_data)"
   ]
  },
  {
   "cell_type": "code",
   "execution_count": 67,
   "metadata": {},
   "outputs": [],
   "source": [
    "df.to_csv('MAL-data.csv', index=False)"
   ]
  },
  {
   "cell_type": "code",
   "execution_count": null,
   "metadata": {},
   "outputs": [],
   "source": []
  }
 ],
 "metadata": {
  "kernelspec": {
   "display_name": "Python 3",
   "language": "python",
   "name": "python3"
  },
  "language_info": {
   "codemirror_mode": {
    "name": "ipython",
    "version": 3
   },
   "file_extension": ".py",
   "mimetype": "text/x-python",
   "name": "python",
   "nbconvert_exporter": "python",
   "pygments_lexer": "ipython3",
   "version": "3.8.5"
  }
 },
 "nbformat": 4,
 "nbformat_minor": 4
}
